{
 "cells": [
  {
   "cell_type": "code",
   "execution_count": 1,
   "metadata": {
    "collapsed": true
   },
   "outputs": [],
   "source": [
    "from scipy.io import loadmat\n",
    "import numpy as np\n",
    "import matplotlib.pyplot as plt\n",
    "%matplotlib inline\n",
    "from mpl_toolkits.mplot3d import Axes3D\n",
    "import random"
   ]
  },
  {
   "cell_type": "markdown",
   "metadata": {},
   "source": [
    "# Problem 5"
   ]
  },
  {
   "cell_type": "code",
   "execution_count": 2,
   "metadata": {
    "collapsed": true
   },
   "outputs": [],
   "source": [
    "# load data\n",
    "data = loadmat('./data/IP2classes.mat')\n",
    "\n",
    "datax = data['X']\n",
    "datay = data['Y']"
   ]
  },
  {
   "cell_type": "code",
   "execution_count": 3,
   "metadata": {
    "collapsed": true
   },
   "outputs": [],
   "source": [
    "def get_orth_mat(X, method='qr'):\n",
    "    if method == 'qr':\n",
    "        u, r = np.linalg.qr(X)\n",
    "    elif method == 'svd':\n",
    "        u, s, vh = np.linalg.svd(X)\n",
    "    elif method == 'closest_orth':\n",
    "        raise ValueError('Method closest_orth is not implemented yet!')\n",
    "    else:\n",
    "        raise ValueError('Method %s is not valid!')\n",
    "    return u\n",
    "        \n",
    "def flag(data_collection):\n",
    "    u_collection = None\n",
    "    for data in data_collection:\n",
    "        u = get_orth_mat(data, method='qr')\n",
    "        if u_collection is None:\n",
    "            u_collection = u\n",
    "        else:\n",
    "            u_collection = np.hstack((u_collection, u))\n",
    "    averages, s, vh = np.linalg.svd(u_collection)\n",
    "    \n",
    "    return averages"
   ]
  },
  {
   "cell_type": "code",
   "execution_count": 4,
   "metadata": {
    "collapsed": true
   },
   "outputs": [],
   "source": [
    "def Gr(X, k, num_points=25):\n",
    "    p = X.shape[1]\n",
    "    inds = random.sample(range(p), num_points*k)\n",
    "    return np.array([X[:, inds[i*k:(i+1)*k]] for i in range(num_points)])"
   ]
  },
  {
   "cell_type": "code",
   "execution_count": 5,
   "metadata": {
    "collapsed": true
   },
   "outputs": [],
   "source": [
    "def chordal_dist_matrix(data_collection):\n",
    "    u_collection = []\n",
    "    for data in data_collection:\n",
    "        u = get_orth_mat(np.array(data), method='qr')\n",
    "        u_collection.append(u)\n",
    "    n = len(u_collection)\n",
    "    dist_matrix = np.zeros((n, n))\n",
    "    for i in range(n):\n",
    "        for j in range(i+1, n):\n",
    "            _, s, _ = np.linalg.svd(u_collection[i].T @ u_collection[j])\n",
    "            dist_matrix[i, j] = np.sqrt(np.sum(1 - s**2))\n",
    "            dist_matrix[j, i] = dist_matrix[i, j]\n",
    "    return dist_matrix\n",
    "\n",
    "def MDS(D):\n",
    "    '''\n",
    "    This function computes MDS with a distance matrix\n",
    "    :param D: input distance matrix\n",
    "    :return: V_tilde, whose rows are result configurations, and the eigenvalues\n",
    "    '''\n",
    "    P = D.shape[0]  # D is a symmetric distrance matrix\n",
    "    A = -0.5 * D**2\n",
    "    H = np.eye(P) - np.ones((P, P))/P\n",
    "    B = H@A@H\n",
    "    w, V = np.linalg.eig(B)\n",
    "    V = V[:, np.flip(np.argsort(w), axis=0)]\n",
    "    w = w[np.flip(np.argsort(w), axis=0)]\n",
    "    V = V[:, w>0]\n",
    "    w = w[w>0]\n",
    "    V_tilde = V * np.sqrt(w[None, :])\n",
    "\n",
    "    return V_tilde, w\n",
    "\n",
    "def plot_mds(res):\n",
    "    # labels = ['X']*25 + ['Y']*25\n",
    "    plt.plot(res[:25, 0], res[:25, 1], 'r.', label='X')\n",
    "    plt.plot(res[25:50, 0], res[25:50, 1], 'b.', label='Y')\n",
    "    plt.plot(res[51, 0], res[51, 1], 'b*', markersize=10, label='Y_mean')\n",
    "    plt.plot(res[50, 0], res[50, 1], 'r*', markersize=10, label='X_mean')\n",
    "    # for i in range(res.shape[0]):\n",
    "    #     plt.text(res[i, 0]+1, res[i, 1]+1, labels[i])\n",
    "    plt.legend(bbox_to_anchor=(1.05, 1), loc=2)\n",
    "    plt.show()"
   ]
  },
  {
   "cell_type": "code",
   "execution_count": 6,
   "metadata": {
    "collapsed": true
   },
   "outputs": [],
   "source": [
    "def main(k, datax, datay):\n",
    "    # get 25 points for each dataset in grassmannian\n",
    "    x_set = Gr(datax, k)\n",
    "    y_set = Gr(datay, k)\n",
    "    \n",
    "    # find flag for each set\n",
    "    x_mean = flag(x_set)\n",
    "    y_mean = flag(y_set)\n",
    "    \n",
    "    # Take the first eigenvector as the mean\n",
    "    x_mean_reshape = x_mean[:, :k].reshape((1, x_mean.shape[0], k))\n",
    "    y_mean_reshape = y_mean[:, :k].reshape((1, y_mean.shape[0], k))\n",
    "#     print(x_mean_reshape.shape, y_mean_reshape.shape)\n",
    "    \n",
    "    # MDS analysis, mapping to euclidean distance\n",
    "#     dist_matrix = chordal(np.vstack((x_set, y_set, x_mean_reshape, y_mean_reshape)))\n",
    "    collection = x_set.tolist() + y_set.tolist() + x_mean_reshape.tolist() + y_mean_reshape.tolist()\n",
    "#     print(collection[50])\n",
    "    dist_matrix = chordal_dist_matrix(collection)\n",
    "    res, _ = MDS(dist_matrix)\n",
    "#     print(res[50, :2])\n",
    "#     print(res[51, :2])\n",
    "    # plot result\n",
    "    plot_mds(res)\n",
    "#     return res"
   ]
  },
  {
   "cell_type": "code",
   "execution_count": 7,
   "metadata": {},
   "outputs": [
    {
     "data": {
      "image/png": "[encoded data removed]",
      "text/plain": [
       "<Figure size 432x288 with 1 Axes>"
      ]
     },
     "metadata": {},
     "output_type": "display_data"
    }
   ],
   "source": [
    "main(1, datax, datay)"
   ]
  },
  {
   "cell_type": "code",
   "execution_count": 16,
   "metadata": {},
   "outputs": [
    {
     "data": {
      "image/png": "[encoded data removed]",
      "text/plain": [
       "<Figure size 432x288 with 1 Axes>"
      ]
     },
     "metadata": {},
     "output_type": "display_data"
    }
   ],
   "source": [
    "main(5, datax, datay)"
   ]
  },
  {
   "cell_type": "code",
   "execution_count": 12,
   "metadata": {},
   "outputs": [
    {
     "data": {
      "image/png": "[encoded data removed]",
      "text/plain": [
       "<Figure size 432x288 with 1 Axes>"
      ]
     },
     "metadata": {},
     "output_type": "display_data"
    }
   ],
   "source": [
    "main(10, datax, datay)"
   ]
  },
  {
   "cell_type": "code",
   "execution_count": null,
   "metadata": {
    "collapsed": true
   },
   "outputs": [],
   "source": []
  }
 ],
 "metadata": {
  "kernelspec": {
   "display_name": "Python 3",
   "language": "python",
   "name": "python3"
  },
  "language_info": {
   "codemirror_mode": {
    "name": "ipython",
    "version": 3
   },
   "file_extension": ".py",
   "mimetype": "text/x-python",
   "name": "python",
   "nbconvert_exporter": "python",
   "pygments_lexer": "ipython3",
   "version": "3.6.3"
  }
 },
 "nbformat": 4,
 "nbformat_minor": 2
}
