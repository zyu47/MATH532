{
 "cells": [
  {
   "cell_type": "code",
   "execution_count": 1,
   "metadata": {
    "collapsed": true
   },
   "outputs": [],
   "source": [
    "import numpy as np\n",
    "import matplotlib.pyplot as plt\n",
    "%matplotlib inline"
   ]
  },
  {
   "cell_type": "markdown",
   "metadata": {},
   "source": [
    "# Problem 2"
   ]
  },
  {
   "cell_type": "code",
   "execution_count": 2,
   "metadata": {},
   "outputs": [
    {
     "name": "stdout",
     "output_type": "stream",
     "text": [
      "[[ 0.22329108]\n",
      " [ 0.52316334]] 0.5507014565811811\n"
     ]
    }
   ],
   "source": [
    "np.random.seed(16)\n",
    "# generate hyperplane\n",
    "w = np.random.rand(2,1)\n",
    "b = np.random.rand()\n",
    "print(w, b)"
   ]
  },
  {
   "cell_type": "code",
   "execution_count": 3,
   "metadata": {
    "collapsed": true
   },
   "outputs": [],
   "source": [
    "# generate data\n",
    "x = []\n",
    "y = []\n",
    "while True:\n",
    "    tmp = np.random.rand(2,1)*20 - 10\n",
    "    if w.T@tmp + b > 0:\n",
    "        x.append(tmp)\n",
    "        y.append(-1)\n",
    "    if len(x) == 10:\n",
    "        break\n",
    "while True:\n",
    "    tmp = np.random.rand(2,1)*20 - 10\n",
    "    if w.T@tmp + b < 0:\n",
    "        x.append(tmp)\n",
    "        y.append(1)\n",
    "    if len(x) == 20:\n",
    "        break\n",
    "x = np.rollaxis(np.array(x).squeeze(), 1, 0)\n",
    "y = np.array(y)"
   ]
  },
  {
   "cell_type": "code",
   "execution_count": 4,
   "metadata": {
    "scrolled": false
   },
   "outputs": [
    {
     "data": {
      "image/png": "[encoded data removed]",
      "text/plain": [
       "<matplotlib.figure.Figure at 0x7f093b6f0d30>"
      ]
     },
     "metadata": {},
     "output_type": "display_data"
    }
   ],
   "source": [
    "plt.figure(figsize=(8,8))\n",
    "plt.plot(x[0, :10], x[1, :10], 'b+', mew=2.5, markersize=10)\n",
    "plt.plot(x[0, 10:], x[1, 10:], 'b_', mew=2.5, markersize=10)\n",
    "# plt.plot([0,1], [-b/w[1], (-b-w[0])/w[1]])\n",
    "# w[0]x1 + w[1]x2 + b = 0\n",
    "plt.plot([-10,10], [(-b+10*w[0])/w[1], (-b-10*w[0])/w[1]], 'r', linewidth=2)\n",
    "# plt.plot(1, )\n",
    "plt.show()"
   ]
  },
  {
   "cell_type": "code",
   "execution_count": 5,
   "metadata": {},
   "outputs": [],
   "source": [
    "from quadprog import solve_qp"
   ]
  },
  {
   "cell_type": "code",
   "execution_count": 6,
   "metadata": {
    "scrolled": true
   },
   "outputs": [
    {
     "name": "stdout",
     "output_type": "stream",
     "text": [
      "Solve a strictly convex quadratic program\n",
      "\n",
      "    Minimize     1/2 x^T G x - a^T x\n",
      "    Subject to   C.T x >= b\n",
      "\n",
      "    This routine uses the the Goldfarb/Idnani dual algorithm [1].\n",
      "\n",
      "    References\n",
      "    ---------\n",
      "    ... [1] D. Goldfarb and A. Idnani (1983). A numerically stable dual\n",
      "        method for solving strictly convex quadratic programs.\n",
      "        Mathematical Programming, 27, 1-33.\n",
      "\n",
      "    Parameters\n",
      "    ----------\n",
      "    G : array, shape=(n, n)\n",
      "        matrix appearing in the quadratic function to be minimized\n",
      "    a : array, shape=(n,)\n",
      "        vector appearing in the quadratic function to be minimized\n",
      "    C : array, shape=(n, m)\n",
      "        matrix defining the constraints under which we want to minimize the\n",
      "        quadratic function\n",
      "    b : array, shape=(m), default=None\n",
      "        vector defining the constraints\n",
      "    meq : int, default=0\n",
      "        the first meq constraints are treated as equality constraints,\n",
      "        all further as inequality constraints (defaults to 0).\n",
      "    factorized : bool, default=False\n",
      "        If True, then we are passing :math:`R^{−1}` (where :math:`G = R^T R`)\n",
      "        instead of the matrix G in the argument G.\n",
      "\n",
      "    Returns\n",
      "    -------\n",
      "    x : array, shape=(n,)\n",
      "        vector containing the solution of the quadratic programming problem.\n",
      "    f : float\n",
      "        the value of the quadratic function at the solution.\n",
      "    xu : array, shape=(n,)\n",
      "        vector containing the unconstrained minimizer of the quadratic function\n",
      "    iterations : tuple\n",
      "        2-tuple. the first component contains the number of iterations the\n",
      "        algorithm needed, the second indicates how often constraints became\n",
      "        inactive after becoming active first.\n",
      "    lagrangian : array, shape=(m,)\n",
      "        vector with the Lagragian at the solution.\n",
      "    iact : array\n",
      "        vector with the indices of the active constraints at the solution.\n",
      "    \n"
     ]
    }
   ],
   "source": [
    "print(solve_qp.__doc__)"
   ]
  },
  {
   "cell_type": "code",
   "execution_count": 7,
   "metadata": {},
   "outputs": [
    {
     "name": "stdout",
     "output_type": "stream",
     "text": [
      "(2, 20)\n"
     ]
    }
   ],
   "source": [
    "n, p = x.shape\n",
    "print(x.shape)"
   ]
  },
  {
   "cell_type": "code",
   "execution_count": 8,
   "metadata": {},
   "outputs": [
    {
     "name": "stdout",
     "output_type": "stream",
     "text": [
      "[[ 1.  0.  0.]\n",
      " [ 0.  1.  0.]\n",
      " [ 0.  0.  0.]]\n"
     ]
    }
   ],
   "source": [
    "H = np.eye(n)\n",
    "H = np.hstack((H, np.zeros((n, 1))))\n",
    "H = np.vstack((H, np.zeros((1, n+1))))\n",
    "print(H)"
   ]
  },
  {
   "cell_type": "code",
   "execution_count": 11,
   "metadata": {
    "collapsed": true
   },
   "outputs": [],
   "source": [
    "A = np.hstack(((x*y[None, :]).T, y.reshape((p,1)))).T\n",
    "b = np.ones((p))"
   ]
  },
  {
   "cell_type": "code",
   "execution_count": 12,
   "metadata": {},
   "outputs": [
    {
     "data": {
      "text/plain": [
       "(3, 20)"
      ]
     },
     "execution_count": 12,
     "metadata": {},
     "output_type": "execute_result"
    }
   ],
   "source": [
    "A.shape"
   ]
  },
  {
   "cell_type": "code",
   "execution_count": 41,
   "metadata": {
    "scrolled": true
   },
   "outputs": [
    {
     "data": {
      "text/plain": [
       "(array([ 1.,  1.,  0.]), array([[ 1.,  0.,  0.],\n",
       "        [ 0.,  1.,  0.],\n",
       "        [ 0.,  0.,  1.]]))"
      ]
     },
     "execution_count": 41,
     "metadata": {},
     "output_type": "execute_result"
    }
   ],
   "source": [
    "np.linalg.eig(H)"
   ]
  },
  {
   "cell_type": "code",
   "execution_count": 13,
   "metadata": {
    "scrolled": true
   },
   "outputs": [
    {
     "ename": "ValueError",
     "evalue": "matrix G is not positive definite",
     "output_type": "error",
     "traceback": [
      "\u001b[0;31m---------------------------------------------------------------------------\u001b[0m",
      "\u001b[0;31mValueError\u001b[0m                                Traceback (most recent call last)",
      "\u001b[0;32m<ipython-input-13-6d25669edbb2>\u001b[0m in \u001b[0;36m<module>\u001b[0;34m()\u001b[0m\n\u001b[0;32m----> 1\u001b[0;31m \u001b[0mres\u001b[0m \u001b[0;34m=\u001b[0m \u001b[0msolve_qp\u001b[0m\u001b[0;34m(\u001b[0m\u001b[0mH\u001b[0m\u001b[0;34m,\u001b[0m \u001b[0mnp\u001b[0m\u001b[0;34m.\u001b[0m\u001b[0mzeros\u001b[0m\u001b[0;34m(\u001b[0m\u001b[0;34m(\u001b[0m\u001b[0mn\u001b[0m\u001b[0;34m+\u001b[0m\u001b[0;36m1\u001b[0m\u001b[0;34m)\u001b[0m\u001b[0;34m)\u001b[0m\u001b[0;34m,\u001b[0m \u001b[0;34m-\u001b[0m\u001b[0mA\u001b[0m\u001b[0;34m,\u001b[0m \u001b[0mb\u001b[0m\u001b[0;34m)\u001b[0m\u001b[0;34m\u001b[0m\u001b[0m\n\u001b[0m",
      "\u001b[0;32mquadprog/quadprog.pyx\u001b[0m in \u001b[0;36mquadprog.solve_qp (quadprog/quadprog.cpp:2606)\u001b[0;34m()\u001b[0m\n",
      "\u001b[0;31mValueError\u001b[0m: matrix G is not positive definite"
     ]
    }
   ],
   "source": [
    "res = solve_qp(H, np.zeros((n+1)), -A, b)"
   ]
  },
  {
   "cell_type": "code",
   "execution_count": 14,
   "metadata": {
    "collapsed": true
   },
   "outputs": [],
   "source": [
    "import scipy.optimize\n",
    "def solve_qp_scipy(G, a, C, b, meq=0):\n",
    "    # Minimize     1/2 x^T G x - a^T x\n",
    "    # Subject to   C.T x >= b\n",
    "    def f(x):\n",
    "        return 0.5 * np.dot(x.T, G).dot(x) - np.dot(a, x)\n",
    "\n",
    "    if C is not None and b is not None:\n",
    "        constraints = [{\n",
    "            'type': 'ineq',\n",
    "            'fun': lambda x, C=C, b=b, i=i: (np.dot(C.T, x) - b)[i]\n",
    "        } for i in range(C.shape[1])]\n",
    "    else:\n",
    "        constraints = []\n",
    "\n",
    "    result = scipy.optimize.minimize(f, x0=np.zeros(len(G)), method='COBYLA',\n",
    "        constraints=constraints, tol=1e-10)\n",
    "    return result"
   ]
  },
  {
   "cell_type": "code",
   "execution_count": 15,
   "metadata": {},
   "outputs": [
    {
     "data": {
      "text/plain": [
       "     fun: 0.0\n",
       "   maxcv: 1.0\n",
       " message: 'Did not converge to a solution satisfying the constraints. See `maxcv` for magnitude of violation.'\n",
       "    nfev: 44\n",
       "  status: 4\n",
       " success: False\n",
       "       x: array([ 0.,  0.,  0.])"
      ]
     },
     "execution_count": 15,
     "metadata": {},
     "output_type": "execute_result"
    }
   ],
   "source": [
    "solve_qp_scipy(H, np.zeros((n+1)), -A, b)"
   ]
  },
  {
   "cell_type": "markdown",
   "metadata": {},
   "source": [
    "# Problem 3"
   ]
  },
  {
   "cell_type": "code",
   "execution_count": 5,
   "metadata": {
    "collapsed": true
   },
   "outputs": [],
   "source": [
    "from scipy.optimize import linprog"
   ]
  },
  {
   "cell_type": "code",
   "execution_count": 6,
   "metadata": {},
   "outputs": [
    {
     "name": "stdout",
     "output_type": "stream",
     "text": [
      "(2, 20)\n"
     ]
    }
   ],
   "source": [
    "n, p = x.shape\n",
    "print(x.shape)"
   ]
  },
  {
   "cell_type": "code",
   "execution_count": 7,
   "metadata": {},
   "outputs": [
    {
     "data": {
      "text/plain": [
       "(20,)"
      ]
     },
     "execution_count": 7,
     "metadata": {},
     "output_type": "execute_result"
    }
   ],
   "source": [
    "y.shape"
   ]
  },
  {
   "cell_type": "code",
   "execution_count": 8,
   "metadata": {
    "collapsed": true
   },
   "outputs": [],
   "source": [
    "# a1 = np.hstack((np.eye(n), np.zeros((n, 1)), np.zeros((n, p)), -np.eye(n)))\n",
    "a1 = np.hstack((np.eye(n), np.zeros((n, 1)), -np.eye(n)))"
   ]
  },
  {
   "cell_type": "code",
   "execution_count": 9,
   "metadata": {
    "collapsed": true
   },
   "outputs": [],
   "source": [
    "# a2 = np.hstack((-np.eye(n), np.zeros((n, 1)), np.zeros((n, p)), -np.eye(n)))\n",
    "a2 = np.hstack((-np.eye(n), np.zeros((n, 1)), -np.eye(n)))"
   ]
  },
  {
   "cell_type": "code",
   "execution_count": 10,
   "metadata": {
    "collapsed": true
   },
   "outputs": [],
   "source": [
    "# a3 = np.hstack(((x*y[None, :]).T, y.reshape((p,1)), -np.eye(p), np.zeros((p,n))))\n",
    "a3 = np.hstack(((x*y[None, :]).T, y.reshape((p,1)), np.zeros((p,n))))"
   ]
  },
  {
   "cell_type": "code",
   "execution_count": 11,
   "metadata": {
    "collapsed": true
   },
   "outputs": [],
   "source": [
    "A = np.vstack((a1, a2, a3))"
   ]
  },
  {
   "cell_type": "code",
   "execution_count": 12,
   "metadata": {
    "collapsed": true
   },
   "outputs": [],
   "source": [
    "b = np.vstack((np.zeros((n,1)), np.zeros((n,1)), -np.ones((p,1))))"
   ]
  },
  {
   "cell_type": "code",
   "execution_count": 19,
   "metadata": {
    "collapsed": true
   },
   "outputs": [],
   "source": [
    "c = np.hstack((np.zeros((n)), 0, np.ones(n)))"
   ]
  },
  {
   "cell_type": "code",
   "execution_count": 20,
   "metadata": {},
   "outputs": [
    {
     "data": {
      "text/plain": [
       "(5,)"
      ]
     },
     "execution_count": 20,
     "metadata": {},
     "output_type": "execute_result"
    }
   ],
   "source": [
    "c.shape"
   ]
  },
  {
   "cell_type": "code",
   "execution_count": 21,
   "metadata": {
    "collapsed": true
   },
   "outputs": [],
   "source": [
    "res = linprog(c, A, b)"
   ]
  },
  {
   "cell_type": "code",
   "execution_count": 22,
   "metadata": {},
   "outputs": [
    {
     "data": {
      "text/plain": [
       "     fun: 1.0956035405122844\n",
       " message: 'Optimization terminated successfully.'\n",
       "     nit: 22\n",
       "   slack: array([ 0.        ,  0.        ,  0.69047307,  1.50073401,  0.49283355,\n",
       "        3.57335672,  0.        ,  1.09729635,  3.45380632,  0.20716173,\n",
       "        3.88118606,  0.        ,  1.7687016 ,  0.27090901,  1.65253604,\n",
       "        0.27983246,  4.79892826,  2.54722163,  0.        ,  2.05384792,\n",
       "        2.19849704,  1.57360954,  6.81457846,  2.13232635])\n",
       "  status: 0\n",
       " success: True\n",
       "       x: array([ 0.34523653,  0.75036701,  0.57260737,  0.34523653,  0.75036701])"
      ]
     },
     "execution_count": 22,
     "metadata": {},
     "output_type": "execute_result"
    }
   ],
   "source": [
    "res"
   ]
  },
  {
   "cell_type": "code",
   "execution_count": 30,
   "metadata": {},
   "outputs": [
    {
     "data": {
      "image/png": "[encoded data removed]",
      "text/plain": [
       "<Figure size 576x576 with 1 Axes>"
      ]
     },
     "metadata": {},
     "output_type": "display_data"
    }
   ],
   "source": [
    "plt.figure(figsize=(8,8))\n",
    "plt.plot(x[0, :10], x[1, :10], 'b+', mew=2.5, markersize=10)\n",
    "plt.plot(x[0, 10:], x[1, 10:], 'b_', mew=2.5, markersize=10)\n",
    "# plt.plot([0,1], [-b/w[1], (-b-w[0])/w[1]])\n",
    "# w[0]x1 + w[1]x2 + b = 0\n",
    "plt.plot([-10,10], [(-b+10*w[0])/w[1], (-b-10*w[0])/w[1]], 'r', linewidth=2)\n",
    "plt.plot([-10,10], [(-res['x'][2] + 10*res['x'][0])/res['x'][1], (-res['x'][2]-10*res['x'][0])/res['x'][1]], 'g', linewidth=2)\n",
    "# plt.plot(1, )\n",
    "plt.show()"
   ]
  },
  {
   "cell_type": "code",
   "execution_count": 19,
   "metadata": {},
   "outputs": [
    {
     "name": "stdout",
     "output_type": "stream",
     "text": [
      "-5.53838116617 8.82021720492 -8.4401532122 -4.13025487796 8.35374015489 -9.13568540527 0.865380877426 3.70048905445 -0.640077052401 -9.7704213248 6.32284652578 1.5601349115 -5.35569025062 -5.69142043437 -9.63200106739 9.15457199623 5.90625360199 -2.12265355034 -6.93108627857 -1.99154001857 ;3.77452323643 1.2736276047 4.4528102225 3.93221428417 1.32892657438 5.0488983392 5.34380851429 -1.13298075973 3.2211866953 5.4258889325 -7.20716792503 -3.18651455912 -6.0271249283 -2.87185165876 2.3358053919 -9.0448379779 -7.74308955596 -3.21629193764 -7.98851970778 -4.02120738073 ;"
     ]
    }
   ],
   "source": [
    "for i in x:\n",
    "    for j in i:\n",
    "        print(j, end=' ')\n",
    "    print(';', end='')"
   ]
  },
  {
   "cell_type": "code",
   "execution_count": 29,
   "metadata": {},
   "outputs": [
    {
     "name": "stdout",
     "output_type": "stream",
     "text": [
      "-1.0 -1.0 -1.0 -1.0 -1.0 -1.0 -1.0 -1.0 -1.0 -1.0 -1.0 -1.0 -1.0 -1.0 -1.0 -1.0 -1.0 -1.0 -1.0 -1.0 "
     ]
    }
   ],
   "source": [
    "for i in b:\n",
    "    print(-i, end=' ')"
   ]
  },
  {
   "cell_type": "code",
   "execution_count": 27,
   "metadata": {},
   "outputs": [
    {
     "name": "stdout",
     "output_type": "stream",
     "text": [
      "5.53838116617 -8.82021720492 8.4401532122 4.13025487796 -8.35374015489 9.13568540527 -0.865380877426 -3.70048905445 0.640077052401 9.7704213248 6.32284652578 1.5601349115 -5.35569025062 -5.69142043437 -9.63200106739 9.15457199623 5.90625360199 -2.12265355034 -6.93108627857 -1.99154001857 ;-3.77452323643 -1.2736276047 -4.4528102225 -3.93221428417 -1.32892657438 -5.0488983392 -5.34380851429 1.13298075973 -3.2211866953 -5.4258889325 -7.20716792503 -3.18651455912 -6.0271249283 -2.87185165876 2.3358053919 -9.0448379779 -7.74308955596 -3.21629193764 -7.98851970778 -4.02120738073 ;-1.0 -1.0 -1.0 -1.0 -1.0 -1.0 -1.0 -1.0 -1.0 -1.0 1.0 1.0 1.0 1.0 1.0 1.0 1.0 1.0 1.0 1.0 ;"
     ]
    }
   ],
   "source": [
    "for i in A:\n",
    "    for j in i:\n",
    "        print(j, end=' ')\n",
    "    print(';', end='')"
   ]
  },
  {
   "cell_type": "code",
   "execution_count": 28,
   "metadata": {},
   "outputs": [
    {
     "data": {
      "text/plain": [
       "array([ 1.,  1.,  1.,  1.,  1.,  1.,  1.,  1.,  1.,  1.,  1.,  1.,  1.,\n",
       "        1.,  1.,  1.,  1.,  1.,  1.,  1.])"
      ]
     },
     "execution_count": 28,
     "metadata": {},
     "output_type": "execute_result"
    }
   ],
   "source": [
    "b"
   ]
  },
  {
   "cell_type": "code",
   "execution_count": null,
   "metadata": {
    "collapsed": true
   },
   "outputs": [],
   "source": []
  }
 ],
 "metadata": {
  "kernelspec": {
   "display_name": "Python 3",
   "language": "python",
   "name": "python3"
  },
  "language_info": {
   "codemirror_mode": {
    "name": "ipython",
    "version": 3
   },
   "file_extension": ".py",
   "mimetype": "text/x-python",
   "name": "python",
   "nbconvert_exporter": "python",
   "pygments_lexer": "ipython3",
   "version": "3.5.3"
  }
 },
 "nbformat": 4,
 "nbformat_minor": 2
}
